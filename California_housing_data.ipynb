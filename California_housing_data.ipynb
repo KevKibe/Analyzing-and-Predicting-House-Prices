{
 "cells": [
  {
   "cell_type": "code",
   "execution_count": 2,
   "id": "02b4865e",
   "metadata": {},
   "outputs": [],
   "source": [
    "import pandas as pd\n",
    "import numpy as np\n",
    "import seaborn as sns\n",
    "import matplotlib.pyplot as plt\n",
    "import statistics as statistics"
   ]
  },
  {
   "cell_type": "markdown",
   "id": "3323be35",
   "metadata": {},
   "source": [
    "<b>LOADING DATA<b/>"
   ]
  },
  {
   "cell_type": "code",
   "execution_count": 3,
   "id": "d7dc5ca9",
   "metadata": {},
   "outputs": [],
   "source": [
    "census_data = pd.read_csv(r\"C:\\Users\\kibe\\Downloads\\Carlifonia_census_data.csv\")"
   ]
  },
  {
   "cell_type": "markdown",
   "id": "f7abf7ce",
   "metadata": {},
   "source": [
    "<b>EXPLORING DATA<b/>"
   ]
  },
  {
   "cell_type": "code",
   "execution_count": 4,
   "id": "b3da60cc",
   "metadata": {},
   "outputs": [
    {
     "data": {
      "text/html": [
       "<div>\n",
       "<style scoped>\n",
       "    .dataframe tbody tr th:only-of-type {\n",
       "        vertical-align: middle;\n",
       "    }\n",
       "\n",
       "    .dataframe tbody tr th {\n",
       "        vertical-align: top;\n",
       "    }\n",
       "\n",
       "    .dataframe thead th {\n",
       "        text-align: right;\n",
       "    }\n",
       "</style>\n",
       "<table border=\"1\" class=\"dataframe\">\n",
       "  <thead>\n",
       "    <tr style=\"text-align: right;\">\n",
       "      <th></th>\n",
       "      <th>longitude</th>\n",
       "      <th>latitude</th>\n",
       "      <th>housing_median_age</th>\n",
       "      <th>total_rooms</th>\n",
       "      <th>total_bedrooms</th>\n",
       "      <th>population</th>\n",
       "      <th>households</th>\n",
       "      <th>median_income</th>\n",
       "      <th>median_house_value</th>\n",
       "      <th>ocean_proximity</th>\n",
       "    </tr>\n",
       "  </thead>\n",
       "  <tbody>\n",
       "    <tr>\n",
       "      <th>0</th>\n",
       "      <td>-122.23</td>\n",
       "      <td>37.88</td>\n",
       "      <td>41</td>\n",
       "      <td>880</td>\n",
       "      <td>129.0</td>\n",
       "      <td>322</td>\n",
       "      <td>126</td>\n",
       "      <td>8.3252</td>\n",
       "      <td>452600</td>\n",
       "      <td>NEAR BAY</td>\n",
       "    </tr>\n",
       "    <tr>\n",
       "      <th>1</th>\n",
       "      <td>-122.22</td>\n",
       "      <td>37.86</td>\n",
       "      <td>21</td>\n",
       "      <td>7099</td>\n",
       "      <td>1106.0</td>\n",
       "      <td>2401</td>\n",
       "      <td>1138</td>\n",
       "      <td>8.3014</td>\n",
       "      <td>358500</td>\n",
       "      <td>NEAR BAY</td>\n",
       "    </tr>\n",
       "    <tr>\n",
       "      <th>2</th>\n",
       "      <td>-122.24</td>\n",
       "      <td>37.85</td>\n",
       "      <td>52</td>\n",
       "      <td>1467</td>\n",
       "      <td>190.0</td>\n",
       "      <td>496</td>\n",
       "      <td>177</td>\n",
       "      <td>7.2574</td>\n",
       "      <td>352100</td>\n",
       "      <td>NEAR BAY</td>\n",
       "    </tr>\n",
       "    <tr>\n",
       "      <th>3</th>\n",
       "      <td>-122.25</td>\n",
       "      <td>37.85</td>\n",
       "      <td>52</td>\n",
       "      <td>1274</td>\n",
       "      <td>235.0</td>\n",
       "      <td>558</td>\n",
       "      <td>219</td>\n",
       "      <td>5.6431</td>\n",
       "      <td>341300</td>\n",
       "      <td>NEAR BAY</td>\n",
       "    </tr>\n",
       "    <tr>\n",
       "      <th>4</th>\n",
       "      <td>-122.25</td>\n",
       "      <td>37.85</td>\n",
       "      <td>52</td>\n",
       "      <td>1627</td>\n",
       "      <td>280.0</td>\n",
       "      <td>565</td>\n",
       "      <td>259</td>\n",
       "      <td>3.8462</td>\n",
       "      <td>342200</td>\n",
       "      <td>NEAR BAY</td>\n",
       "    </tr>\n",
       "  </tbody>\n",
       "</table>\n",
       "</div>"
      ],
      "text/plain": [
       "   longitude  latitude  housing_median_age total_rooms  total_bedrooms  \\\n",
       "0    -122.23     37.88                  41         880           129.0   \n",
       "1    -122.22     37.86                  21        7099          1106.0   \n",
       "2    -122.24     37.85                  52        1467           190.0   \n",
       "3    -122.25     37.85                  52        1274           235.0   \n",
       "4    -122.25     37.85                  52        1627           280.0   \n",
       "\n",
       "   population  households  median_income  median_house_value ocean_proximity  \n",
       "0         322         126         8.3252              452600        NEAR BAY  \n",
       "1        2401        1138         8.3014              358500        NEAR BAY  \n",
       "2         496         177         7.2574              352100        NEAR BAY  \n",
       "3         558         219         5.6431              341300        NEAR BAY  \n",
       "4         565         259         3.8462              342200        NEAR BAY  "
      ]
     },
     "execution_count": 4,
     "metadata": {},
     "output_type": "execute_result"
    }
   ],
   "source": [
    "census_data.head(5)"
   ]
  },
  {
   "cell_type": "code",
   "execution_count": 12,
   "id": "f92b138c",
   "metadata": {},
   "outputs": [
    {
     "data": {
      "text/plain": [
       "longitude             float64\n",
       "latitude              float64\n",
       "housing_median_age      int64\n",
       "total_rooms            object\n",
       "total_bedrooms        float64\n",
       "population              int64\n",
       "households              int64\n",
       "median_income         float64\n",
       "median_house_value      int64\n",
       "ocean_proximity        object\n",
       "dtype: object"
      ]
     },
     "execution_count": 12,
     "metadata": {},
     "output_type": "execute_result"
    }
   ],
   "source": [
    "census_data.dtypes"
   ]
  },
  {
   "cell_type": "code",
   "execution_count": 15,
   "id": "ec249674",
   "metadata": {},
   "outputs": [
    {
     "data": {
      "text/plain": [
       "<bound method DataFrame.info of        longitude  latitude  housing_median_age total_rooms  total_bedrooms  \\\n",
       "0        -122.23     37.88                  41         880           129.0   \n",
       "1        -122.22     37.86                  21        7099          1106.0   \n",
       "2        -122.24     37.85                  52        1467           190.0   \n",
       "3        -122.25     37.85                  52        1274           235.0   \n",
       "4        -122.25     37.85                  52        1627           280.0   \n",
       "...          ...       ...                 ...         ...             ...   \n",
       "20635    -121.09     39.48                  25        1665           374.0   \n",
       "20636    -121.21     39.49                  18         697           150.0   \n",
       "20637    -121.22     39.43                  17        2254           485.0   \n",
       "20638    -121.32     39.43                  18        1860           409.0   \n",
       "20639    -121.24     39.37                  16        2785           616.0   \n",
       "\n",
       "       population  households  median_income  median_house_value  \\\n",
       "0             322         126         8.3252              452600   \n",
       "1            2401        1138         8.3014              358500   \n",
       "2             496         177         7.2574              352100   \n",
       "3             558         219         5.6431              341300   \n",
       "4             565         259         3.8462              342200   \n",
       "...           ...         ...            ...                 ...   \n",
       "20635         845         330         1.5603               78100   \n",
       "20636         356         114         2.5568               77100   \n",
       "20637        1007         433         1.7000               92300   \n",
       "20638         741         349         1.8672               84700   \n",
       "20639        1387         530         2.3886               89400   \n",
       "\n",
       "      ocean_proximity  \n",
       "0            NEAR BAY  \n",
       "1            NEAR BAY  \n",
       "2            NEAR BAY  \n",
       "3            NEAR BAY  \n",
       "4            NEAR BAY  \n",
       "...               ...  \n",
       "20635          INLAND  \n",
       "20636          INLAND  \n",
       "20637          INLAND  \n",
       "20638          INLAND  \n",
       "20639          INLAND  \n",
       "\n",
       "[20640 rows x 10 columns]>"
      ]
     },
     "execution_count": 15,
     "metadata": {},
     "output_type": "execute_result"
    }
   ],
   "source": [
    "census_data.info"
   ]
  },
  {
   "cell_type": "code",
   "execution_count": 25,
   "id": "2716e099",
   "metadata": {},
   "outputs": [
    {
     "name": "stdout",
     "output_type": "stream",
     "text": [
      "<class 'pandas.core.frame.DataFrame'>\n",
      "RangeIndex: 20640 entries, 0 to 20639\n",
      "Data columns (total 10 columns):\n",
      " #   Column              Non-Null Count  Dtype  \n",
      "---  ------              --------------  -----  \n",
      " 0   longitude           20640 non-null  float64\n",
      " 1   latitude            20640 non-null  float64\n",
      " 2   housing_median_age  20640 non-null  int64  \n",
      " 3   total_rooms         20640 non-null  object \n",
      " 4   total_bedrooms      20433 non-null  float64\n",
      " 5   population          20640 non-null  int64  \n",
      " 6   households          20640 non-null  int64  \n",
      " 7   median_income       20640 non-null  float64\n",
      " 8   median_house_value  20640 non-null  int64  \n",
      " 9   ocean_proximity     20640 non-null  object \n",
      "dtypes: float64(4), int64(4), object(2)\n",
      "memory usage: 1.6+ MB\n"
     ]
    }
   ],
   "source": [
    "census_data.info()"
   ]
  },
  {
   "cell_type": "markdown",
   "id": "e2b3b03b",
   "metadata": {},
   "source": [
    "<b>total rooms(edited later on) and total bedrooms have null values<b/>\n",
    "    "
   ]
  },
  {
   "cell_type": "code",
   "execution_count": 9,
   "id": "71130707",
   "metadata": {},
   "outputs": [
    {
     "data": {
      "text/html": [
       "<div>\n",
       "<style scoped>\n",
       "    .dataframe tbody tr th:only-of-type {\n",
       "        vertical-align: middle;\n",
       "    }\n",
       "\n",
       "    .dataframe tbody tr th {\n",
       "        vertical-align: top;\n",
       "    }\n",
       "\n",
       "    .dataframe thead th {\n",
       "        text-align: right;\n",
       "    }\n",
       "</style>\n",
       "<table border=\"1\" class=\"dataframe\">\n",
       "  <thead>\n",
       "    <tr style=\"text-align: right;\">\n",
       "      <th></th>\n",
       "      <th>longitude</th>\n",
       "      <th>latitude</th>\n",
       "      <th>housing_median_age</th>\n",
       "      <th>total_rooms</th>\n",
       "      <th>total_bedrooms</th>\n",
       "      <th>population</th>\n",
       "      <th>households</th>\n",
       "      <th>median_income</th>\n",
       "      <th>median_house_value</th>\n",
       "      <th>ocean_proximity</th>\n",
       "    </tr>\n",
       "  </thead>\n",
       "  <tbody>\n",
       "    <tr>\n",
       "      <th>10</th>\n",
       "      <td>-122.26</td>\n",
       "      <td>37.85</td>\n",
       "      <td>52</td>\n",
       "      <td>??</td>\n",
       "      <td>434.0</td>\n",
       "      <td>910</td>\n",
       "      <td>402</td>\n",
       "      <td>3.2031</td>\n",
       "      <td>281500</td>\n",
       "      <td>NEAR BAY</td>\n",
       "    </tr>\n",
       "    <tr>\n",
       "      <th>29</th>\n",
       "      <td>-122.28</td>\n",
       "      <td>37.84</td>\n",
       "      <td>52</td>\n",
       "      <td>??</td>\n",
       "      <td>160.0</td>\n",
       "      <td>395</td>\n",
       "      <td>155</td>\n",
       "      <td>1.6875</td>\n",
       "      <td>132000</td>\n",
       "      <td>NEAR BAY</td>\n",
       "    </tr>\n",
       "    <tr>\n",
       "      <th>42</th>\n",
       "      <td>-122.26</td>\n",
       "      <td>37.84</td>\n",
       "      <td>49</td>\n",
       "      <td>??</td>\n",
       "      <td>202.0</td>\n",
       "      <td>462</td>\n",
       "      <td>189</td>\n",
       "      <td>1.0250</td>\n",
       "      <td>118800</td>\n",
       "      <td>NEAR BAY</td>\n",
       "    </tr>\n",
       "    <tr>\n",
       "      <th>58</th>\n",
       "      <td>-122.28</td>\n",
       "      <td>37.82</td>\n",
       "      <td>52</td>\n",
       "      <td>??</td>\n",
       "      <td>341.0</td>\n",
       "      <td>1074</td>\n",
       "      <td>304</td>\n",
       "      <td>1.2171</td>\n",
       "      <td>80300</td>\n",
       "      <td>NEAR BAY</td>\n",
       "    </tr>\n",
       "    <tr>\n",
       "      <th>72</th>\n",
       "      <td>-122.29</td>\n",
       "      <td>37.81</td>\n",
       "      <td>49</td>\n",
       "      <td>??</td>\n",
       "      <td>204.0</td>\n",
       "      <td>560</td>\n",
       "      <td>152</td>\n",
       "      <td>1.7500</td>\n",
       "      <td>75000</td>\n",
       "      <td>NEAR BAY</td>\n",
       "    </tr>\n",
       "    <tr>\n",
       "      <th>...</th>\n",
       "      <td>...</td>\n",
       "      <td>...</td>\n",
       "      <td>...</td>\n",
       "      <td>...</td>\n",
       "      <td>...</td>\n",
       "      <td>...</td>\n",
       "      <td>...</td>\n",
       "      <td>...</td>\n",
       "      <td>...</td>\n",
       "      <td>...</td>\n",
       "    </tr>\n",
       "    <tr>\n",
       "      <th>20552</th>\n",
       "      <td>-121.80</td>\n",
       "      <td>38.68</td>\n",
       "      <td>11</td>\n",
       "      <td>??</td>\n",
       "      <td>892.0</td>\n",
       "      <td>1847</td>\n",
       "      <td>747</td>\n",
       "      <td>3.4331</td>\n",
       "      <td>120600</td>\n",
       "      <td>INLAND</td>\n",
       "    </tr>\n",
       "    <tr>\n",
       "      <th>20561</th>\n",
       "      <td>-121.77</td>\n",
       "      <td>38.67</td>\n",
       "      <td>42</td>\n",
       "      <td>??</td>\n",
       "      <td>518.0</td>\n",
       "      <td>1548</td>\n",
       "      <td>534</td>\n",
       "      <td>2.2794</td>\n",
       "      <td>108900</td>\n",
       "      <td>INLAND</td>\n",
       "    </tr>\n",
       "    <tr>\n",
       "      <th>20572</th>\n",
       "      <td>-121.98</td>\n",
       "      <td>38.52</td>\n",
       "      <td>27</td>\n",
       "      <td>??</td>\n",
       "      <td>565.0</td>\n",
       "      <td>1583</td>\n",
       "      <td>514</td>\n",
       "      <td>2.7989</td>\n",
       "      <td>126700</td>\n",
       "      <td>INLAND</td>\n",
       "    </tr>\n",
       "    <tr>\n",
       "      <th>20606</th>\n",
       "      <td>-121.57</td>\n",
       "      <td>39.12</td>\n",
       "      <td>30</td>\n",
       "      <td>??</td>\n",
       "      <td>534.0</td>\n",
       "      <td>1702</td>\n",
       "      <td>506</td>\n",
       "      <td>2.0800</td>\n",
       "      <td>56600</td>\n",
       "      <td>INLAND</td>\n",
       "    </tr>\n",
       "    <tr>\n",
       "      <th>20625</th>\n",
       "      <td>-121.52</td>\n",
       "      <td>39.12</td>\n",
       "      <td>37</td>\n",
       "      <td>??</td>\n",
       "      <td>17.0</td>\n",
       "      <td>29</td>\n",
       "      <td>14</td>\n",
       "      <td>4.1250</td>\n",
       "      <td>72000</td>\n",
       "      <td>INLAND</td>\n",
       "    </tr>\n",
       "  </tbody>\n",
       "</table>\n",
       "<p>1018 rows × 10 columns</p>\n",
       "</div>"
      ],
      "text/plain": [
       "       longitude  latitude  housing_median_age total_rooms  total_bedrooms  \\\n",
       "10       -122.26     37.85                  52          ??           434.0   \n",
       "29       -122.28     37.84                  52          ??           160.0   \n",
       "42       -122.26     37.84                  49          ??           202.0   \n",
       "58       -122.28     37.82                  52          ??           341.0   \n",
       "72       -122.29     37.81                  49          ??           204.0   \n",
       "...          ...       ...                 ...         ...             ...   \n",
       "20552    -121.80     38.68                  11          ??           892.0   \n",
       "20561    -121.77     38.67                  42          ??           518.0   \n",
       "20572    -121.98     38.52                  27          ??           565.0   \n",
       "20606    -121.57     39.12                  30          ??           534.0   \n",
       "20625    -121.52     39.12                  37          ??            17.0   \n",
       "\n",
       "       population  households  median_income  median_house_value  \\\n",
       "10            910         402         3.2031              281500   \n",
       "29            395         155         1.6875              132000   \n",
       "42            462         189         1.0250              118800   \n",
       "58           1074         304         1.2171               80300   \n",
       "72            560         152         1.7500               75000   \n",
       "...           ...         ...            ...                 ...   \n",
       "20552        1847         747         3.4331              120600   \n",
       "20561        1548         534         2.2794              108900   \n",
       "20572        1583         514         2.7989              126700   \n",
       "20606        1702         506         2.0800               56600   \n",
       "20625          29          14         4.1250               72000   \n",
       "\n",
       "      ocean_proximity  \n",
       "10           NEAR BAY  \n",
       "29           NEAR BAY  \n",
       "42           NEAR BAY  \n",
       "58           NEAR BAY  \n",
       "72           NEAR BAY  \n",
       "...               ...  \n",
       "20552          INLAND  \n",
       "20561          INLAND  \n",
       "20572          INLAND  \n",
       "20606          INLAND  \n",
       "20625          INLAND  \n",
       "\n",
       "[1018 rows x 10 columns]"
      ]
     },
     "execution_count": 9,
     "metadata": {},
     "output_type": "execute_result"
    }
   ],
   "source": [
    "census_data.loc[census_data[\"total_rooms\"] ==\"??\"]"
   ]
  },
  {
   "cell_type": "markdown",
   "id": "0d759115",
   "metadata": {},
   "source": [
    "<b>To replace null values in Total rooms column with the median value<b/> "
   ]
  },
  {
   "cell_type": "code",
   "execution_count": 6,
   "id": "9fb611aa",
   "metadata": {},
   "outputs": [],
   "source": [
    "census_data['total_rooms'] = census_data['total_rooms'].replace('??',np.nan) \n",
    "\n",
    "#calculating the median value of the total_rooms column\n",
    "med_total_rooms = census_data['total_rooms'].median()\n",
    "\n",
    "census_data['total_rooms'] = census_data['total_rooms'].fillna(med_total_rooms)\n"
   ]
  },
  {
   "cell_type": "code",
   "execution_count": 9,
   "id": "2f46c8dd",
   "metadata": {},
   "outputs": [],
   "source": [
    "#To convert total_rooms column to int data type\n",
    "census_data = census_data.astype({'total_rooms' :np.int64})"
   ]
  },
  {
   "cell_type": "code",
   "execution_count": 10,
   "id": "3a584d7c",
   "metadata": {},
   "outputs": [
    {
     "name": "stdout",
     "output_type": "stream",
     "text": [
      "<class 'pandas.core.series.Series'>\n",
      "RangeIndex: 20640 entries, 0 to 20639\n",
      "Series name: total_rooms\n",
      "Non-Null Count  Dtype\n",
      "--------------  -----\n",
      "20640 non-null  int64\n",
      "dtypes: int64(1)\n",
      "memory usage: 161.4 KB\n"
     ]
    }
   ],
   "source": [
    "census_data[\"total_rooms\"].info()"
   ]
  },
  {
   "cell_type": "markdown",
   "id": "8ea13043",
   "metadata": {},
   "source": [
    "<b>To replace null values in Total bedrooms column with the median value<b/>"
   ]
  },
  {
   "cell_type": "code",
   "execution_count": 12,
   "id": "4c25dfdd",
   "metadata": {},
   "outputs": [],
   "source": [
    "#calculating median value of the total_bedrooms column\n",
    "med_total_bedrooms = census_data['total_bedrooms'].median()\n",
    "census_data['total_bedrooms'] =census_data['total_bedrooms'].fillna(med_total_bedrooms)\n"
   ]
  },
  {
   "cell_type": "code",
   "execution_count": 13,
   "id": "b9187fa7",
   "metadata": {},
   "outputs": [
    {
     "name": "stdout",
     "output_type": "stream",
     "text": [
      "<class 'pandas.core.series.Series'>\n",
      "RangeIndex: 20640 entries, 0 to 20639\n",
      "Series name: total_bedrooms\n",
      "Non-Null Count  Dtype  \n",
      "--------------  -----  \n",
      "20640 non-null  float64\n",
      "dtypes: float64(1)\n",
      "memory usage: 161.4 KB\n"
     ]
    }
   ],
   "source": [
    "census_data[\"total_bedrooms\"].info()"
   ]
  },
  {
   "cell_type": "code",
   "execution_count": 32,
   "id": "eba9f551",
   "metadata": {},
   "outputs": [
    {
     "data": {
      "text/plain": [
       "longitude             0\n",
       "latitude              0\n",
       "housing_median_age    0\n",
       "total_rooms           0\n",
       "total_bedrooms        0\n",
       "population            0\n",
       "households            0\n",
       "median_income         0\n",
       "median_house_value    0\n",
       "ocean_proximity       0\n",
       "dtype: int64"
      ]
     },
     "execution_count": 32,
     "metadata": {},
     "output_type": "execute_result"
    }
   ],
   "source": [
    "census_data.isnull().sum()"
   ]
  },
  {
   "cell_type": "markdown",
   "id": "358f7411",
   "metadata": {},
   "source": [
    "<b>DATA VISUALISATION</b>"
   ]
  },
  {
   "cell_type": "code",
   "execution_count": 35,
   "id": "16b0b727",
   "metadata": {},
   "outputs": [
    {
     "data": {
      "image/png": "[encoded data removed]",
      "text/plain": [
       "<Figure size 1440x1080 with 9 Axes>"
      ]
     },
     "metadata": {
      "needs_background": "light"
     },
     "output_type": "display_data"
    }
   ],
   "source": [
    "census_data.hist(bins = 50, figsize = (20,15))\n",
    "plt.show()"
   ]
  },
  {
   "cell_type": "code",
   "execution_count": 14,
   "id": "ced602e1",
   "metadata": {},
   "outputs": [
    {
     "data": {
      "text/plain": [
       "<AxesSubplot:xlabel='ocean_proximity', ylabel='count'>"
      ]
     },
     "execution_count": 14,
     "metadata": {},
     "output_type": "execute_result"
    },
    {
     "data": {
      "image/png": "[encoded data removed]",
      "text/plain": [
       "<Figure size 432x288 with 1 Axes>"
      ]
     },
     "metadata": {
      "needs_background": "light"
     },
     "output_type": "display_data"
    }
   ],
   "source": [
    "sns.countplot(x= 'ocean_proximity', data = census_data)"
   ]
  },
  {
   "cell_type": "markdown",
   "id": "e02dc1de",
   "metadata": {},
   "source": [
    "From the data above most people live less than an hour from the ocean"
   ]
  },
  {
   "cell_type": "code",
   "execution_count": 15,
   "id": "73a8d837",
   "metadata": {},
   "outputs": [
    {
     "data": {
      "image/png": "[encoded data removed]",
      "text/plain": [
       "<Figure size 432x288 with 1 Axes>"
      ]
     },
     "metadata": {
      "needs_background": "light"
     },
     "output_type": "display_data"
    }
   ],
   "source": [
    "sns.boxplot(data = census_data , x = census_data['ocean_proximity'], y = census_data['median_income'])\n",
    "plt.show()"
   ]
  },
  {
   "cell_type": "markdown",
   "id": "d14ec4c0",
   "metadata": {},
   "source": [
    "From the data above high income households live less than an hour away from the ocean and near the bay respectively"
   ]
  },
  {
   "cell_type": "code",
   "execution_count": null,
   "id": "2feb51c9",
   "metadata": {},
   "outputs": [],
   "source": []
  }
 ],
 "metadata": {
  "kernelspec": {
   "display_name": "Python 3 (ipykernel)",
   "language": "python",
   "name": "python3"
  },
  "language_info": {
   "codemirror_mode": {
    "name": "ipython",
    "version": 3
   },
   "file_extension": ".py",
   "mimetype": "text/x-python",
   "name": "python",
   "nbconvert_exporter": "python",
   "pygments_lexer": "ipython3",
   "version": "3.9.12"
  }
 },
 "nbformat": 4,
 "nbformat_minor": 5
}
